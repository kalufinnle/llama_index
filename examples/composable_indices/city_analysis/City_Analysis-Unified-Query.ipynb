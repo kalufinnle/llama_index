{
 "cells": [
  {
   "cell_type": "markdown",
   "id": "cfb64210-9c6b-47d7-81f4-67dbdab68e4c",
   "metadata": {
    "id": "cfb64210-9c6b-47d7-81f4-67dbdab68e4c",
    "tags": []
   },
   "source": [
    "# Defining a Unified Query Interface over your Data\n",
    "\n",
    "Query Decomposition: The ability to decompose a complex query into a simpler query given the content of the index.\n",
    "\n",
    "Use ChatGPT as the LLM model"
   ]
  },
  {
   "cell_type": "code",
   "execution_count": 1,
   "id": "fa0e62b6",
   "metadata": {
    "id": "fa0e62b6",
    "tags": []
   },
   "outputs": [],
   "source": [
    "import logging\n",
    "import sys\n",
    "\n",
    "# logging.basicConfig(stream=sys.stdout, level=logging.INFO)\n",
    "# logging.getLogger().addHandler(logging.StreamHandler(stream=sys.stdout))\n",
    "\n",
    "# Uncomment if you want to temporarily disable logger\n",
    "logger = logging.getLogger()\n",
    "logger.disabled = True"
   ]
  },
  {
   "cell_type": "code",
   "execution_count": 2,
   "id": "e27b0473-4bda-47f0-b6ed-fd482eac1a13",
   "metadata": {
    "id": "e27b0473-4bda-47f0-b6ed-fd482eac1a13",
    "tags": []
   },
   "outputs": [
    {
     "name": "stderr",
     "output_type": "stream",
     "text": [
      "/Users/jerryliu/Programming/gpt_index/.venv/lib/python3.10/site-packages/tqdm/auto.py:21: TqdmWarning: IProgress not found. Please update jupyter and ipywidgets. See https://ipywidgets.readthedocs.io/en/stable/user_install.html\n",
      "  from .autonotebook import tqdm as notebook_tqdm\n"
     ]
    }
   ],
   "source": [
    "from gpt_index import (\n",
    "    GPTSimpleVectorIndex, \n",
    "    GPTSimpleKeywordTableIndex, \n",
    "    GPTListIndex, \n",
    "    SimpleDirectoryReader,\n",
    "    LLMPredictor,\n",
    "    ServiceContext\n",
    ")\n",
    "from langchain.llms.openai import OpenAIChat, OpenAI\n",
    "import requests"
   ]
  },
  {
   "cell_type": "markdown",
   "id": "49e0d841-680f-4a0c-b455-788b54978ebf",
   "metadata": {
    "id": "49e0d841-680f-4a0c-b455-788b54978ebf"
   },
   "source": [
    "#### Load Datasets\n",
    "\n",
    "Load Wikipedia pages as well as Paul Graham's \"What I Worked On\" essay"
   ]
  },
  {
   "cell_type": "code",
   "execution_count": 3,
   "id": "fc4692a1",
   "metadata": {
    "id": "fc4692a1",
    "tags": []
   },
   "outputs": [],
   "source": [
    "wiki_titles = [\"Toronto\", \"Seattle\", \"Chicago\", \"Boston\", \"Houston\"]"
   ]
  },
  {
   "cell_type": "code",
   "execution_count": 4,
   "id": "9ec16a8b-6aae-4bf7-9b83-b82087b4ea52",
   "metadata": {
    "id": "9ec16a8b-6aae-4bf7-9b83-b82087b4ea52",
    "tags": []
   },
   "outputs": [],
   "source": [
    "from pathlib import Path\n",
    "\n",
    "import requests\n",
    "for title in wiki_titles:\n",
    "    response = requests.get(\n",
    "        'https://en.wikipedia.org/w/api.php',\n",
    "        params={\n",
    "            'action': 'query',\n",
    "            'format': 'json',\n",
    "            'titles': title,\n",
    "            'prop': 'extracts',\n",
    "            # 'exintro': True,\n",
    "            'explaintext': True,\n",
    "        }\n",
    "    ).json()\n",
    "    page = next(iter(response['query']['pages'].values()))\n",
    "    wiki_text = page['extract']\n",
    "\n",
    "    data_path = Path('data')\n",
    "    if not data_path.exists():\n",
    "        Path.mkdir(data_path)\n",
    "\n",
    "    with open(data_path / f\"{title}.txt\", 'w') as fp:\n",
    "        fp.write(wiki_text)\n"
   ]
  },
  {
   "cell_type": "code",
   "execution_count": 5,
   "id": "39c00aeb-adef-4ce3-8134-031de18e64ea",
   "metadata": {
    "id": "39c00aeb-adef-4ce3-8134-031de18e64ea",
    "tags": []
   },
   "outputs": [],
   "source": [
    "# Load all wiki documents\n",
    "city_docs = {}\n",
    "for wiki_title in wiki_titles:\n",
    "    city_docs[wiki_title] = SimpleDirectoryReader(input_files=[f\"data/{wiki_title}.txt\"]).load_data()\n"
   ]
  },
  {
   "cell_type": "markdown",
   "id": "f1782198-c0de-4679-8951-1297c21b8639",
   "metadata": {
    "id": "f1782198-c0de-4679-8951-1297c21b8639"
   },
   "source": [
    "### Building each Vector Index\n",
    "Build a vector index for the wiki pages about cities and persons, and PG essay"
   ]
  },
  {
   "cell_type": "code",
   "execution_count": 6,
   "id": "M0GylZB-C2zL",
   "metadata": {
    "id": "M0GylZB-C2zL",
    "tags": []
   },
   "outputs": [
    {
     "name": "stderr",
     "output_type": "stream",
     "text": [
      "/Users/jerryliu/Programming/gpt_index/.venv/lib/python3.10/site-packages/langchain/llms/openai.py:623: UserWarning: You are trying to use a chat model. This way of initializing it is no longer supported. Instead, please use: `from langchain.chat_models import ChatOpenAI`\n",
      "  warnings.warn(\n"
     ]
    }
   ],
   "source": [
    "# # LLM Predictor (gpt-3.5-turbo)\n",
    "llm_predictor_chatgpt = LLMPredictor(llm=OpenAIChat(temperature=0, model_name=\"gpt-3.5-turbo\"))\n",
    "service_context = ServiceContext.from_defaults(\n",
    "    llm_predictor=llm_predictor_chatgpt, chunk_size_limit=1024\n",
    ")"
   ]
  },
  {
   "cell_type": "code",
   "execution_count": null,
   "id": "5431e83e-428b-4473-bad1-24b7a6c4db38",
   "metadata": {
    "colab": {
     "base_uri": "https://localhost:8080/",
     "height": 183,
     "referenced_widgets": [
      "b5566e3db2914ddebd80d7bde75b2559",
      "208d404f405a42a3b06d65ad67fb7322",
      "7da29a2b6508494282acbc459eccbb96",
      "47838fa763ca40598b2622a9d1e79444",
      "ff32a3f12e814740a1cd5dd12bd731d4",
      "3fef46c902524717b377dee6c1dfc929",
      "fd8b887c1f7149f2876cf8a31e534ad6",
      "7438aea716f44d85ad1c2b49a93acd83",
      "fe39f994fa9b4d7daa232e1dcd2b0e8b",
      "b102e756f9b848a98f58396fc825be84",
      "fbd7219af1924d2ead5310eb7b35aab0",
      "3b4c1066797b43a586611ec2d63e7ca1",
      "c06865c1e01a441698dacf48600dd03c",
      "9d229e5dd56e4d539ca2c1b9f0a37812",
      "868aa268dd28498d902782215e53c6fa",
      "46f644cf589e4a48a6fad1742f0c0575",
      "adb40ef11f094594b14776e238955224",
      "7b47c78391a4431aa2d3f84677f24046",
      "398f1c0f56fe4f218d999df138adfdac",
      "f1839e86863948f68314f81ba6bca4c9",
      "3c37e72850c746ce9c919add5340dede",
      "2053e6adef1b4dba89f861eaf3d916fd",
      "eab4127882d24acfa9518ebff6f4e22a",
      "64b754f563834be0a6963349b1f2dcf2",
      "c7636a6d7380465895b8c86d34caf500",
      "f7803dea63994cc2a31acf805bd19e67",
      "380a0c11434241b191b17421e395be8b",
      "a02534c347aa4865ab4ab3de3a3ee2f5",
      "b0ccb9d9d96e4ed8bec4d540c34d337c",
      "f22e9615de674e05978f332eb88750cf",
      "b53e8481f6d64018988dc03081bf2765",
      "b458d6fa793d4fa080b9f1e5013af3de",
      "119d6d7a8d524aa49170f5784ebc6b9e",
      "d55f842766484d299c75f74e31e7aa6a",
      "1bdaf4dab16f48dbaeed3fb9bf268e45",
      "026cc1a42e154f1f92b5236869311929",
      "a2edbc4195d843e0acfba83726a08e78",
      "40e148c291ad4f739998a7eac55a8af6",
      "028aa5d1f7a74d538b5c606d4a6d146f",
      "c078fe9a056a473dab7d474cd7907154",
      "4cc9ec6ba46647aba2d53e352f91c137",
      "f2a1c5087d0e44909139697ed90474e8",
      "7b24b46d6c3643e581ba003a9c473745",
      "3f748152b9274556afad2555572aa9f4"
     ]
    },
    "id": "5431e83e-428b-4473-bad1-24b7a6c4db38",
    "outputId": "5721e863-d460-4f5c-9e36-5a586180b669",
    "tags": []
   },
   "outputs": [],
   "source": [
    "# Build city document index\n",
    "vector_indices = {}\n",
    "for wiki_title in wiki_titles:\n",
    "    # build vector index\n",
    "    vector_indices[wiki_title] = GPTSimpleVectorIndex.from_documents(\n",
    "        city_docs[wiki_title], service_context=service_context\n",
    "    )\n",
    "    # set id for vector index\n",
    "    vector_indices[wiki_title].index_struct.index_id = wiki_title\n",
    "    vector_indices[wiki_title].save_to_disk(f'index_{wiki_title}.json')"
   ]
  },
  {
   "cell_type": "code",
   "execution_count": 7,
   "id": "2fc6cbcf-3640-4cb0-bafa-8a367159ffa9",
   "metadata": {
    "tags": []
   },
   "outputs": [],
   "source": [
    "index_summaries = {}\n",
    "for wiki_title in wiki_titles:\n",
    "    # set summary text for city\n",
    "    index_summaries[wiki_title] = (\n",
    "        f\"This index contains Wikipedia articles about {wiki_title}. \"\n",
    "        f\"Use this index if you need to lookup specific facts about {wiki_title}. \"\n",
    "    )"
   ]
  },
  {
   "cell_type": "code",
   "execution_count": 8,
   "id": "98068ef8-aead-46e7-8dac-0d05b5a86e6a",
   "metadata": {
    "id": "98068ef8-aead-46e7-8dac-0d05b5a86e6a",
    "tags": []
   },
   "outputs": [],
   "source": [
    "# If indices already saved, try loading\n",
    "vector_indices = {}\n",
    "for wiki_title in wiki_titles:\n",
    "    vector_indices[wiki_title] = GPTSimpleVectorIndex.load_from_disk(\n",
    "      f'index_{wiki_title}.json', service_context=service_context\n",
    "    )"
   ]
  },
  {
   "cell_type": "markdown",
   "id": "c385eaa5-5ea5-4ddb-a9e8-87583ff75e14",
   "metadata": {},
   "source": [
    "#### Test Querying the Vector Index"
   ]
  },
  {
   "cell_type": "code",
   "execution_count": 9,
   "id": "f690177f-9e9b-46c5-9a2e-9e697da8ce1b",
   "metadata": {},
   "outputs": [
    {
     "name": "stdout",
     "output_type": "stream",
     "text": [
      "{}\n",
      "getting query transform: QueryConfig(index_struct_type=<IndexStructType.SIMPLE_DICT: 'simple_dict'>, query_mode=<QueryMode.DEFAULT: 'default'>, query_kwargs={}, index_struct_id=None, query_transform=None, query_combiner=None)\n"
     ]
    },
    {
     "ename": "Exception",
     "evalue": "",
     "output_type": "error",
     "traceback": [
      "\u001b[0;31m---------------------------------------------------------------------------\u001b[0m",
      "\u001b[0;31mException\u001b[0m                                 Traceback (most recent call last)",
      "Cell \u001b[0;32mIn[9], line 1\u001b[0m\n\u001b[0;32m----> 1\u001b[0m response \u001b[38;5;241m=\u001b[39m \u001b[43mvector_indices\u001b[49m\u001b[43m[\u001b[49m\u001b[38;5;124;43m\"\u001b[39;49m\u001b[38;5;124;43mToronto\u001b[39;49m\u001b[38;5;124;43m\"\u001b[39;49m\u001b[43m]\u001b[49m\u001b[38;5;241;43m.\u001b[39;49m\u001b[43mquery\u001b[49m\u001b[43m(\u001b[49m\u001b[38;5;124;43m\"\u001b[39;49m\u001b[38;5;124;43mWhat are the sports teams in Toronto?\u001b[39;49m\u001b[38;5;124;43m\"\u001b[39;49m\u001b[43m)\u001b[49m\n",
      "File \u001b[0;32m~/Programming/gpt_index/gpt_index/indices/base.py:255\u001b[0m, in \u001b[0;36mBaseGPTIndex.query\u001b[0;34m(self, query_str, mode, query_transform, use_async, **query_kwargs)\u001b[0m\n\u001b[1;32m    240\u001b[0m query_config \u001b[38;5;241m=\u001b[39m QueryConfig(\n\u001b[1;32m    241\u001b[0m     index_struct_type\u001b[38;5;241m=\u001b[39m\u001b[38;5;28mself\u001b[39m\u001b[38;5;241m.\u001b[39m_index_struct\u001b[38;5;241m.\u001b[39mget_type(),\n\u001b[1;32m    242\u001b[0m     query_mode\u001b[38;5;241m=\u001b[39mmode_enum,\n\u001b[1;32m    243\u001b[0m     query_kwargs\u001b[38;5;241m=\u001b[39mquery_kwargs,\n\u001b[1;32m    244\u001b[0m )\n\u001b[1;32m    245\u001b[0m query_runner \u001b[38;5;241m=\u001b[39m QueryRunner(\n\u001b[1;32m    246\u001b[0m     index_struct\u001b[38;5;241m=\u001b[39m\u001b[38;5;28mself\u001b[39m\u001b[38;5;241m.\u001b[39m_index_struct,\n\u001b[1;32m    247\u001b[0m     service_context\u001b[38;5;241m=\u001b[39m\u001b[38;5;28mself\u001b[39m\u001b[38;5;241m.\u001b[39m_service_context,\n\u001b[0;32m   (...)\u001b[0m\n\u001b[1;32m    253\u001b[0m     use_async\u001b[38;5;241m=\u001b[39muse_async,\n\u001b[1;32m    254\u001b[0m )\n\u001b[0;32m--> 255\u001b[0m \u001b[38;5;28;01mreturn\u001b[39;00m \u001b[43mquery_runner\u001b[49m\u001b[38;5;241;43m.\u001b[39;49m\u001b[43mquery\u001b[49m\u001b[43m(\u001b[49m\u001b[43mquery_str\u001b[49m\u001b[43m)\u001b[49m\n",
      "File \u001b[0;32m~/Programming/gpt_index/gpt_index/indices/query/query_runner.py:350\u001b[0m, in \u001b[0;36mQueryRunner.query\u001b[0;34m(self, query_str_or_bundle, index_id, level)\u001b[0m\n\u001b[1;32m    329\u001b[0m \u001b[38;5;28;01mdef\u001b[39;00m \u001b[38;5;21mquery\u001b[39m(\n\u001b[1;32m    330\u001b[0m     \u001b[38;5;28mself\u001b[39m,\n\u001b[1;32m    331\u001b[0m     query_str_or_bundle: Union[\u001b[38;5;28mstr\u001b[39m, QueryBundle],\n\u001b[1;32m    332\u001b[0m     index_id: Optional[\u001b[38;5;28mstr\u001b[39m] \u001b[38;5;241m=\u001b[39m \u001b[38;5;28;01mNone\u001b[39;00m,\n\u001b[1;32m    333\u001b[0m     level: \u001b[38;5;28mint\u001b[39m \u001b[38;5;241m=\u001b[39m \u001b[38;5;241m0\u001b[39m,\n\u001b[1;32m    334\u001b[0m ) \u001b[38;5;241m-\u001b[39m\u001b[38;5;241m>\u001b[39m RESPONSE_TYPE:\n\u001b[1;32m    335\u001b[0m \u001b[38;5;250m    \u001b[39m\u001b[38;5;124;03m\"\"\"Run query.\u001b[39;00m\n\u001b[1;32m    336\u001b[0m \n\u001b[1;32m    337\u001b[0m \u001b[38;5;124;03m    NOTE: Relies on mutual recursion between\u001b[39;00m\n\u001b[0;32m   (...)\u001b[0m\n\u001b[1;32m    348\u001b[0m \u001b[38;5;124;03m        composable graph.\u001b[39;00m\n\u001b[1;32m    349\u001b[0m \u001b[38;5;124;03m    \"\"\"\u001b[39;00m\n\u001b[0;32m--> 350\u001b[0m     query_combiner, query_bundle \u001b[38;5;241m=\u001b[39m \u001b[38;5;28;43mself\u001b[39;49m\u001b[38;5;241;43m.\u001b[39;49m\u001b[43m_prepare_query_objects\u001b[49m\u001b[43m(\u001b[49m\n\u001b[1;32m    351\u001b[0m \u001b[43m        \u001b[49m\u001b[43mquery_str_or_bundle\u001b[49m\u001b[43m,\u001b[49m\u001b[43m \u001b[49m\u001b[43mindex_id\u001b[49m\u001b[38;5;241;43m=\u001b[39;49m\u001b[43mindex_id\u001b[49m\n\u001b[1;32m    352\u001b[0m \u001b[43m    \u001b[49m\u001b[43m)\u001b[49m\n\u001b[1;32m    353\u001b[0m     \u001b[38;5;28;01mreturn\u001b[39;00m query_combiner\u001b[38;5;241m.\u001b[39mrun(query_bundle, level)\n",
      "File \u001b[0;32m~/Programming/gpt_index/gpt_index/indices/query/query_runner.py:325\u001b[0m, in \u001b[0;36mQueryRunner._prepare_query_objects\u001b[0;34m(self, query_str_or_bundle, index_id)\u001b[0m\n\u001b[1;32m    322\u001b[0m \u001b[38;5;28;01melse\u001b[39;00m:\n\u001b[1;32m    323\u001b[0m     query_bundle \u001b[38;5;241m=\u001b[39m query_str_or_bundle\n\u001b[0;32m--> 325\u001b[0m query_transform \u001b[38;5;241m=\u001b[39m \u001b[38;5;28;43mself\u001b[39;49m\u001b[38;5;241;43m.\u001b[39;49m\u001b[43m_get_query_transform\u001b[49m\u001b[43m(\u001b[49m\u001b[43mindex_struct\u001b[49m\u001b[43m)\u001b[49m\n\u001b[1;32m    326\u001b[0m query_combiner \u001b[38;5;241m=\u001b[39m \u001b[38;5;28mself\u001b[39m\u001b[38;5;241m.\u001b[39m_get_query_combiner(index_struct, query_transform)\n\u001b[1;32m    327\u001b[0m \u001b[38;5;28;01mreturn\u001b[39;00m query_combiner, query_bundle\n",
      "File \u001b[0;32m~/Programming/gpt_index/gpt_index/indices/query/query_runner.py:127\u001b[0m, in \u001b[0;36mQueryRunner._get_query_transform\u001b[0;34m(self, index_struct)\u001b[0m\n\u001b[1;32m    125\u001b[0m config \u001b[38;5;241m=\u001b[39m \u001b[38;5;28mself\u001b[39m\u001b[38;5;241m.\u001b[39m_query_config_map\u001b[38;5;241m.\u001b[39mget(index_struct)\n\u001b[1;32m    126\u001b[0m \u001b[38;5;28mprint\u001b[39m(\u001b[38;5;124mf\u001b[39m\u001b[38;5;124m\"\u001b[39m\u001b[38;5;124mgetting query transform: \u001b[39m\u001b[38;5;132;01m{\u001b[39;00mconfig\u001b[38;5;132;01m}\u001b[39;00m\u001b[38;5;124m\"\u001b[39m)\n\u001b[0;32m--> 127\u001b[0m \u001b[38;5;28;01mraise\u001b[39;00m \u001b[38;5;167;01mException\u001b[39;00m\n\u001b[1;32m    128\u001b[0m \u001b[38;5;28;01mif\u001b[39;00m config\u001b[38;5;241m.\u001b[39mquery_transform \u001b[38;5;129;01mis\u001b[39;00m \u001b[38;5;129;01mnot\u001b[39;00m \u001b[38;5;28;01mNone\u001b[39;00m:\n\u001b[1;32m    129\u001b[0m     query_transform \u001b[38;5;241m=\u001b[39m cast(BaseQueryTransform, config\u001b[38;5;241m.\u001b[39mquery_transform)\n",
      "\u001b[0;31mException\u001b[0m: "
     ]
    }
   ],
   "source": [
    "response = vector_indices[\"Toronto\"].query(\"What are the sports teams in Toronto?\")"
   ]
  },
  {
   "cell_type": "code",
   "execution_count": 37,
   "id": "0ba97f40-e4d7-4e40-96f7-f354f91b2b64",
   "metadata": {
    "tags": []
   },
   "outputs": [
    {
     "name": "stdout",
     "output_type": "stream",
     "text": [
      "The sports teams in Toronto include the Toronto Maple Leafs (NHL), Toronto Blue Jays (MLB), Toronto Raptors (NBA), Toronto Argonauts (CFL), Toronto FC (MLS), Toronto Rock (National Lacrosse League), and the Toronto Wolfpack (professional rugby league team).\n"
     ]
    }
   ],
   "source": [
    "print(str(response))"
   ]
  },
  {
   "cell_type": "markdown",
   "id": "d4d3cd8b-4134-4cfa-8002-e0a34694d2e1",
   "metadata": {
    "id": "d4d3cd8b-4134-4cfa-8002-e0a34694d2e1",
    "tags": []
   },
   "source": [
    "### Build a Graph for Compare/Contrast Queries\n",
    "\n",
    "We compose a keyword table index on top of all the vector indices.\n",
    "We use this index for compare/contrast queries"
   ]
  },
  {
   "cell_type": "code",
   "execution_count": 9,
   "id": "6d68750c-e5ae-481a-8b03-6173020c9bf3",
   "metadata": {
    "id": "6d68750c-e5ae-481a-8b03-6173020c9bf3",
    "tags": []
   },
   "outputs": [],
   "source": [
    "from gpt_index.indices.composability import ComposableGraph"
   ]
  },
  {
   "cell_type": "code",
   "execution_count": 10,
   "id": "f975514f-fddd-4737-91de-97bc61394ea9",
   "metadata": {
    "colab": {
     "base_uri": "https://localhost:8080/"
    },
    "id": "f975514f-fddd-4737-91de-97bc61394ea9",
    "outputId": "fc875b0e-c8bf-439b-c794-fcae25954cfb",
    "tags": []
   },
   "outputs": [
    {
     "name": "stderr",
     "output_type": "stream",
     "text": [
      "INFO:gpt_index.token_counter.token_counter:> [build_index_from_nodes] Total LLM token usage: 0 tokens\n",
      "INFO:gpt_index.token_counter.token_counter:> [build_index_from_nodes] Total embedding token usage: 0 tokens\n"
     ]
    }
   ],
   "source": [
    "graph = ComposableGraph.from_indices(\n",
    "    GPTSimpleKeywordTableIndex,\n",
    "    [index for _, index in vector_indices.items()], \n",
    "    [summary for _, summary in index_summaries.items()],\n",
    "    max_keywords_per_chunk=50\n",
    ")"
   ]
  },
  {
   "cell_type": "code",
   "execution_count": 11,
   "id": "de977a92-acf2-40db-be58-34b29f4be47b",
   "metadata": {
    "tags": []
   },
   "outputs": [],
   "source": [
    "# get root index\n",
    "root_index = graph.get_index(graph.index_struct.root_id, GPTSimpleKeywordTableIndex)\n",
    "# set id of root index\n",
    "root_index.index_struct.index_id = \"compare_contrast\"\n",
    "root_summary = (\n",
    "    \"This index contains Wikipedia articles about multiple cities. \"\n",
    "    \"Use this index if you need to lookup specific facts about multiple cities. \"\n",
    ")"
   ]
  },
  {
   "cell_type": "markdown",
   "id": "b4c36f69-596b-4974-afa2-09cc652c1111",
   "metadata": {},
   "source": [
    "#### Test querying the graph"
   ]
  },
  {
   "cell_type": "code",
   "execution_count": 14,
   "id": "7917d4a6-30f8-44fd-9bd7-0e40fa9054a5",
   "metadata": {
    "tags": []
   },
   "outputs": [],
   "source": [
    "# define decompose_transform\n",
    "from gpt_index.indices.query.query_transform.base import DecomposeQueryTransform\n",
    "decompose_transform = DecomposeQueryTransform(\n",
    "    llm_predictor_chatgpt, verbose=True\n",
    ")"
   ]
  },
  {
   "cell_type": "code",
   "execution_count": 22,
   "id": "42edf61e-d1d5-4d5c-a554-d20489413180",
   "metadata": {
    "tags": []
   },
   "outputs": [],
   "source": [
    "# set query config\n",
    "query_configs = [\n",
    "    {\n",
    "        \"index_struct_type\": \"simple_dict\",\n",
    "        \"query_mode\": \"default\",\n",
    "        \"query_kwargs\": {\n",
    "            \"similarity_top_k\": 1\n",
    "        },\n",
    "        # NOTE: set query transform for subindices\n",
    "        \"query_transform\": decompose_transform\n",
    "    },\n",
    "    {\n",
    "        \"index_struct_type\": \"keyword_table\",\n",
    "        \"query_mode\": \"simple\",\n",
    "        \"query_kwargs\": {\n",
    "            \"response_mode\": \"tree_summarize\",\n",
    "            \"verbose\": True\n",
    "        },\n",
    "    },\n",
    "]"
   ]
  },
  {
   "cell_type": "code",
   "execution_count": 23,
   "id": "4cb83f2e-f838-4384-acd0-eb12f72ad2ec",
   "metadata": {
    "tags": []
   },
   "outputs": [
    {
     "name": "stderr",
     "output_type": "stream",
     "text": [
      "INFO:gpt_index.indices.keyword_table.query:> Starting query: Compare and contrast the arts and culture of Houston and Boston. \n",
      "INFO:gpt_index.indices.keyword_table.query:query keywords: ['compare', 'arts', 'boston', 'culture', 'contrast', 'houston']\n",
      "INFO:gpt_index.indices.keyword_table.query:> Extracted keywords: ['boston', 'houston']\n"
     ]
    },
    {
     "name": "stdout",
     "output_type": "stream",
     "text": [
      "index struct id: compare_contrast\n",
      "\u001b[33;1m\u001b[1;3m> Current query: Compare and contrast the arts and culture of Houston and Boston. \n",
      "\u001b[0m\u001b[38;5;200m\u001b[1;3m> New query: What are some notable cultural institutions or events in Boston?\n",
      "\u001b[0mindex struct id: Boston\n",
      "\u001b[33;1m\u001b[1;3m> Current query: Compare and contrast the arts and culture of Houston and Boston. \n",
      "\u001b[0m\u001b[38;5;200m\u001b[1;3m> New query: What are some notable arts and cultural institutions in Houston?\n",
      "\u001b[0mindex struct id: Houston\n"
     ]
    },
    {
     "name": "stderr",
     "output_type": "stream",
     "text": [
      "\n",
      "KeyboardInterrupt\n",
      "\n"
     ]
    }
   ],
   "source": [
    "query_str = (\n",
    "    \"Compare and contrast the arts and culture of Houston and Boston. \"\n",
    ")\n",
    "response_chatgpt = graph.query(\n",
    "    query_str, \n",
    "    query_configs=query_configs, \n",
    "    service_context=service_context,\n",
    ")"
   ]
  },
  {
   "cell_type": "code",
   "execution_count": 17,
   "id": "0aa7efdf-c8c0-4efb-83a0-ad617f120307",
   "metadata": {
    "tags": []
   },
   "outputs": [
    {
     "name": "stdout",
     "output_type": "stream",
     "text": [
      "Houston and Boston both have a rich arts and culture scene with a variety of institutions and events. Houston is known for the Houston Livestock Show and Rodeo, the Houston Greek Festival, the Art Car Parade, and the Houston Theater District. Boston, on the other hand, is known for the Boston Lyric Opera Company, the Boston Early Music Festival, the annual Boston Arts Festival, and the Italian summer feasts in the North End. Both cities have museums of fine arts, but Boston also has the Isabella Stewart Gardner Museum, the Institute of Contemporary Art, and the Boston Athenæum. Houston has the Museum of Natural Science, the Holocaust Museum Houston, and the Children's Museum of Houston. Overall, both cities offer a diverse range of cultural experiences for residents and visitors alike.\n"
     ]
    }
   ],
   "source": [
    "print(response_chatgpt)"
   ]
  },
  {
   "cell_type": "markdown",
   "id": "a8bc0d20-fa6a-455b-ab85-ea9e4fcc0b37",
   "metadata": {},
   "source": [
    "### Build the Outer R|outer Index"
   ]
  },
  {
   "cell_type": "code",
   "execution_count": 12,
   "id": "46922462-604c-43a3-b59a-f040cbd1ed3f",
   "metadata": {},
   "outputs": [
    {
     "name": "stderr",
     "output_type": "stream",
     "text": [
      "INFO:gpt_index.token_counter.token_counter:> [build_index_from_nodes] Total LLM token usage: 0 tokens\n",
      "INFO:gpt_index.token_counter.token_counter:> [build_index_from_nodes] Total embedding token usage: 134 tokens\n"
     ]
    }
   ],
   "source": [
    "# put in all vector indexes + the ro|ot index for the graph\n",
    "\n",
    "outer_graph = ComposableGraph.from_indices(\n",
    "    GPTSimpleVectorIndex,\n",
    "    [index for _, index in vector_indices.items()] + [root_index], \n",
    "    [summary for _, summary in index_summaries.items()] + [root_summary]\n",
    ")"
   ]
  },
  {
   "cell_type": "code",
   "execution_count": 15,
   "id": "9991ebf2-afca-448a-a204-76a0aca69ee4",
   "metadata": {
    "tags": []
   },
   "outputs": [],
   "source": [
    "# set query config\n",
    "query_configs = [\n",
    "    {\n",
    "        \"index_struct_id\": \"compare_contrast\",\n",
    "        \"index_struct_type\": \"simple_dict\",\n",
    "        \"query_mode\": \"default\",\n",
    "        \"query_kwargs\": {\n",
    "            \"similarity_top_k\": 1\n",
    "        },\n",
    "    },\n",
    "    # {\n",
    "    #     \"index_struct_type\": \"simple_dict\",\n",
    "    #     \"query_mode\": \"default\",\n",
    "    #     \"query_kwargs\": {\n",
    "    #         \"similarity_top_k\": 1\n",
    "    #     },\n",
    "    #     # NOTE: set query transform for subindices\n",
    "    #     \"query_transform\": decompose_transform\n",
    "    # },\n",
    "    {\n",
    "        \"index_struct_type\": \"keyword_table\",\n",
    "        \"query_mode\": \"simple\",\n",
    "        \"query_kwargs\": {\n",
    "            \"response_mode\": \"tree_summarize\",\n",
    "            \"verbose\": True\n",
    "        },\n",
    "    },\n",
    "]\n",
    "for wiki_title in wiki_titles:\n",
    "    query_config = {\n",
    "        \"index_struct_id\": wiki_title,\n",
    "        \"index_struct_type\": \"simple_dict\",\n",
    "        \"query_mode\": \"default\",\n",
    "        \"query_kwargs\": {\n",
    "            \"similarity_top_k\": 1\n",
    "        },\n",
    "        # NOTE: set query transform for subindices\n",
    "        \"query_transform\": decompose_transform\n",
    "    }\n",
    "    query_configs.append(query_config)"
   ]
  },
  {
   "cell_type": "code",
   "execution_count": 17,
   "id": "f67065c4-3a68-4adb-ab3f-093ec9e2a8f3",
   "metadata": {
    "tags": []
   },
   "outputs": [
    {
     "name": "stdout",
     "output_type": "stream",
     "text": [
      "{'compare_contrast': QueryConfig(index_struct_type='simple_dict', query_mode=<QueryMode.DEFAULT: 'default'>, query_kwargs={'similarity_top_k': 1}, index_struct_id='compare_contrast', query_transform=None, query_combiner=None), 'Toronto': QueryConfig(index_struct_type='simple_dict', query_mode=<QueryMode.DEFAULT: 'default'>, query_kwargs={'similarity_top_k': 1}, index_struct_id='Toronto', query_transform=<gpt_index.indices.query.query_transform.base.DecomposeQueryTransform object at 0x2b96b4c40>, query_combiner=None), 'Seattle': QueryConfig(index_struct_type='simple_dict', query_mode=<QueryMode.DEFAULT: 'default'>, query_kwargs={'similarity_top_k': 1}, index_struct_id='Seattle', query_transform=<gpt_index.indices.query.query_transform.base.DecomposeQueryTransform object at 0x2b96b4c40>, query_combiner=None), 'Chicago': QueryConfig(index_struct_type='simple_dict', query_mode=<QueryMode.DEFAULT: 'default'>, query_kwargs={'similarity_top_k': 1}, index_struct_id='Chicago', query_transform=<gpt_index.indices.query.query_transform.base.DecomposeQueryTransform object at 0x2b96b4c40>, query_combiner=None), 'Boston': QueryConfig(index_struct_type='simple_dict', query_mode=<QueryMode.DEFAULT: 'default'>, query_kwargs={'similarity_top_k': 1}, index_struct_id='Boston', query_transform=<gpt_index.indices.query.query_transform.base.DecomposeQueryTransform object at 0x2b96b4c40>, query_combiner=None), 'Houston': QueryConfig(index_struct_type='simple_dict', query_mode=<QueryMode.DEFAULT: 'default'>, query_kwargs={'similarity_top_k': 1}, index_struct_id='Houston', query_transform=<gpt_index.indices.query.query_transform.base.DecomposeQueryTransform object at 0x2b96b4c40>, query_combiner=None)}\n",
      "{'compare_contrast': QueryConfig(index_struct_type='simple_dict', query_mode=<QueryMode.DEFAULT: 'default'>, query_kwargs={'similarity_top_k': 1}, index_struct_id='compare_contrast', query_transform=None, query_combiner=None), 'Toronto': QueryConfig(index_struct_type='simple_dict', query_mode=<QueryMode.DEFAULT: 'default'>, query_kwargs={'similarity_top_k': 1}, index_struct_id='Toronto', query_transform=<gpt_index.indices.query.query_transform.base.DecomposeQueryTransform object at 0x2b96b4c40>, query_combiner=None), 'Seattle': QueryConfig(index_struct_type='simple_dict', query_mode=<QueryMode.DEFAULT: 'default'>, query_kwargs={'similarity_top_k': 1}, index_struct_id='Seattle', query_transform=<gpt_index.indices.query.query_transform.base.DecomposeQueryTransform object at 0x2b96b4c40>, query_combiner=None), 'Chicago': QueryConfig(index_struct_type='simple_dict', query_mode=<QueryMode.DEFAULT: 'default'>, query_kwargs={'similarity_top_k': 1}, index_struct_id='Chicago', query_transform=<gpt_index.indices.query.query_transform.base.DecomposeQueryTransform object at 0x2b96b4c40>, query_combiner=None), 'Boston': QueryConfig(index_struct_type='simple_dict', query_mode=<QueryMode.DEFAULT: 'default'>, query_kwargs={'similarity_top_k': 1}, index_struct_id='Boston', query_transform=<gpt_index.indices.query.query_transform.base.DecomposeQueryTransform object at 0x2b96b4c40>, query_combiner=None), 'Houston': QueryConfig(index_struct_type='simple_dict', query_mode=<QueryMode.DEFAULT: 'default'>, query_kwargs={'similarity_top_k': 1}, index_struct_id='Houston', query_transform=<gpt_index.indices.query.query_transform.base.DecomposeQueryTransform object at 0x2b96b4c40>, query_combiner=None)}\n",
      "\u001b[33;1m\u001b[1;3m> Current query: Compare and contrast the arts and culture of Houston and Boston.\n",
      "\u001b[0m\u001b[38;5;200m\u001b[1;3m> New query: What are some notable cultural institutions or events in Houston and Boston?\n",
      "\u001b[0m{'compare_contrast': QueryConfig(index_struct_type='simple_dict', query_mode=<QueryMode.DEFAULT: 'default'>, query_kwargs={'similarity_top_k': 1}, index_struct_id='compare_contrast', query_transform=None, query_combiner=None), 'Toronto': QueryConfig(index_struct_type='simple_dict', query_mode=<QueryMode.DEFAULT: 'default'>, query_kwargs={'similarity_top_k': 1}, index_struct_id='Toronto', query_transform=<gpt_index.indices.query.query_transform.base.DecomposeQueryTransform object at 0x2b96b4c40>, query_combiner=None), 'Seattle': QueryConfig(index_struct_type='simple_dict', query_mode=<QueryMode.DEFAULT: 'default'>, query_kwargs={'similarity_top_k': 1}, index_struct_id='Seattle', query_transform=<gpt_index.indices.query.query_transform.base.DecomposeQueryTransform object at 0x2b96b4c40>, query_combiner=None), 'Chicago': QueryConfig(index_struct_type='simple_dict', query_mode=<QueryMode.DEFAULT: 'default'>, query_kwargs={'similarity_top_k': 1}, index_struct_id='Chicago', query_transform=<gpt_index.indices.query.query_transform.base.DecomposeQueryTransform object at 0x2b96b4c40>, query_combiner=None), 'Boston': QueryConfig(index_struct_type='simple_dict', query_mode=<QueryMode.DEFAULT: 'default'>, query_kwargs={'similarity_top_k': 1}, index_struct_id='Boston', query_transform=<gpt_index.indices.query.query_transform.base.DecomposeQueryTransform object at 0x2b96b4c40>, query_combiner=None), 'Houston': QueryConfig(index_struct_type='simple_dict', query_mode=<QueryMode.DEFAULT: 'default'>, query_kwargs={'similarity_top_k': 1}, index_struct_id='Houston', query_transform=<gpt_index.indices.query.query_transform.base.DecomposeQueryTransform object at 0x2b96b4c40>, query_combiner=None)}\n",
      "index struct id: b4964d4c-c305-4346-8ff4-1e19e3279574\n",
      "{'compare_contrast': QueryConfig(index_struct_type='simple_dict', query_mode=<QueryMode.DEFAULT: 'default'>, query_kwargs={'similarity_top_k': 1}, index_struct_id='compare_contrast', query_transform=None, query_combiner=None), 'Toronto': QueryConfig(index_struct_type='simple_dict', query_mode=<QueryMode.DEFAULT: 'default'>, query_kwargs={'similarity_top_k': 1}, index_struct_id='Toronto', query_transform=<gpt_index.indices.query.query_transform.base.DecomposeQueryTransform object at 0x2b96b4c40>, query_combiner=None), 'Seattle': QueryConfig(index_struct_type='simple_dict', query_mode=<QueryMode.DEFAULT: 'default'>, query_kwargs={'similarity_top_k': 1}, index_struct_id='Seattle', query_transform=<gpt_index.indices.query.query_transform.base.DecomposeQueryTransform object at 0x2b96b4c40>, query_combiner=None), 'Chicago': QueryConfig(index_struct_type='simple_dict', query_mode=<QueryMode.DEFAULT: 'default'>, query_kwargs={'similarity_top_k': 1}, index_struct_id='Chicago', query_transform=<gpt_index.indices.query.query_transform.base.DecomposeQueryTransform object at 0x2b96b4c40>, query_combiner=None), 'Boston': QueryConfig(index_struct_type='simple_dict', query_mode=<QueryMode.DEFAULT: 'default'>, query_kwargs={'similarity_top_k': 1}, index_struct_id='Boston', query_transform=<gpt_index.indices.query.query_transform.base.DecomposeQueryTransform object at 0x2b96b4c40>, query_combiner=None), 'Houston': QueryConfig(index_struct_type='simple_dict', query_mode=<QueryMode.DEFAULT: 'default'>, query_kwargs={'similarity_top_k': 1}, index_struct_id='Houston', query_transform=<gpt_index.indices.query.query_transform.base.DecomposeQueryTransform object at 0x2b96b4c40>, query_combiner=None)}\n",
      "{'compare_contrast': QueryConfig(index_struct_type='simple_dict', query_mode=<QueryMode.DEFAULT: 'default'>, query_kwargs={'similarity_top_k': 1}, index_struct_id='compare_contrast', query_transform=None, query_combiner=None), 'Toronto': QueryConfig(index_struct_type='simple_dict', query_mode=<QueryMode.DEFAULT: 'default'>, query_kwargs={'similarity_top_k': 1}, index_struct_id='Toronto', query_transform=<gpt_index.indices.query.query_transform.base.DecomposeQueryTransform object at 0x2b96b4c40>, query_combiner=None), 'Seattle': QueryConfig(index_struct_type='simple_dict', query_mode=<QueryMode.DEFAULT: 'default'>, query_kwargs={'similarity_top_k': 1}, index_struct_id='Seattle', query_transform=<gpt_index.indices.query.query_transform.base.DecomposeQueryTransform object at 0x2b96b4c40>, query_combiner=None), 'Chicago': QueryConfig(index_struct_type='simple_dict', query_mode=<QueryMode.DEFAULT: 'default'>, query_kwargs={'similarity_top_k': 1}, index_struct_id='Chicago', query_transform=<gpt_index.indices.query.query_transform.base.DecomposeQueryTransform object at 0x2b96b4c40>, query_combiner=None), 'Boston': QueryConfig(index_struct_type='simple_dict', query_mode=<QueryMode.DEFAULT: 'default'>, query_kwargs={'similarity_top_k': 1}, index_struct_id='Boston', query_transform=<gpt_index.indices.query.query_transform.base.DecomposeQueryTransform object at 0x2b96b4c40>, query_combiner=None), 'Houston': QueryConfig(index_struct_type='simple_dict', query_mode=<QueryMode.DEFAULT: 'default'>, query_kwargs={'similarity_top_k': 1}, index_struct_id='Houston', query_transform=<gpt_index.indices.query.query_transform.base.DecomposeQueryTransform object at 0x2b96b4c40>, query_combiner=None)}\n",
      "\u001b[33;1m\u001b[1;3m> Current query: What are some notable cultural institutions or events in Houston and Boston?\n",
      "\u001b[0m\u001b[38;5;200m\u001b[1;3m> New query: What are some notable cultural institutions or events in Houston according to the Wikipedia index?\n",
      "\u001b[0m{'compare_contrast': QueryConfig(index_struct_type='simple_dict', query_mode=<QueryMode.DEFAULT: 'default'>, query_kwargs={'similarity_top_k': 1}, index_struct_id='compare_contrast', query_transform=None, query_combiner=None), 'Toronto': QueryConfig(index_struct_type='simple_dict', query_mode=<QueryMode.DEFAULT: 'default'>, query_kwargs={'similarity_top_k': 1}, index_struct_id='Toronto', query_transform=<gpt_index.indices.query.query_transform.base.DecomposeQueryTransform object at 0x2b96b4c40>, query_combiner=None), 'Seattle': QueryConfig(index_struct_type='simple_dict', query_mode=<QueryMode.DEFAULT: 'default'>, query_kwargs={'similarity_top_k': 1}, index_struct_id='Seattle', query_transform=<gpt_index.indices.query.query_transform.base.DecomposeQueryTransform object at 0x2b96b4c40>, query_combiner=None), 'Chicago': QueryConfig(index_struct_type='simple_dict', query_mode=<QueryMode.DEFAULT: 'default'>, query_kwargs={'similarity_top_k': 1}, index_struct_id='Chicago', query_transform=<gpt_index.indices.query.query_transform.base.DecomposeQueryTransform object at 0x2b96b4c40>, query_combiner=None), 'Boston': QueryConfig(index_struct_type='simple_dict', query_mode=<QueryMode.DEFAULT: 'default'>, query_kwargs={'similarity_top_k': 1}, index_struct_id='Boston', query_transform=<gpt_index.indices.query.query_transform.base.DecomposeQueryTransform object at 0x2b96b4c40>, query_combiner=None), 'Houston': QueryConfig(index_struct_type='simple_dict', query_mode=<QueryMode.DEFAULT: 'default'>, query_kwargs={'similarity_top_k': 1}, index_struct_id='Houston', query_transform=<gpt_index.indices.query.query_transform.base.DecomposeQueryTransform object at 0x2b96b4c40>, query_combiner=None)}\n",
      "index struct id: Houston\n"
     ]
    },
    {
     "name": "stderr",
     "output_type": "stream",
     "text": [
      "\n",
      "KeyboardInterrupt\n",
      "\n"
     ]
    }
   ],
   "source": [
    "# ask a compare/contrast question \n",
    "response = outer_graph.query(\n",
    "    \"Compare and contrast the arts and culture of Houston and Boston.\",\n",
    "    query_configs=query_configs,\n",
    "    service_context=service_context\n",
    ")"
   ]
  },
  {
   "cell_type": "code",
   "execution_count": 82,
   "id": "ebf1a61f-422c-42ac-ae4e-a3a00415bf25",
   "metadata": {
    "tags": []
   },
   "outputs": [
    {
     "data": {
      "text/plain": [
       "Response(response='The context information only provides information about notable cultural institutions or events in Houston, not Boston.', source_nodes=[NodeWithScore(node=Node(text=\"Some notable cultural institutions or events in Houston according to the Wikipedia index include the Theater District, Bayou Place entertainment complex, Space Center Houston, the Galleria shopping mall, the Downtown Aquarium, the Houston Zoo, the Houston Museum of Natural Science, and various parks and green spaces such as Hermann Park and Buffalo Bayou Park. The city also has a significant music scene, particularly in hip-hop, and is home to the chopped and screwed remixing-technique in hip-hop. Additionally, there are ethnic enclaves such as Houston's Chinatown and the Mahatma Gandhi District.\", doc_id='6d3ca6dd-de55-4b80-b349-a99333afd624', embedding=None, doc_hash='5945a98908b9e657c2e17b3d7a1c40731fb7b59d2fd97055732f8bbbd093f23c', extra_info=None, node_info=None, relationships={}), score=0.8055620312776957), NodeWithScore(node=Node(text='Bush Intercontinental Airport. The museum houses the original Popemobile used by Pope John Paul II in the 1980s along with numerous hearses, embalming displays, and information on famous funerals.\\nVenues across Houston regularly host local and touring rock, blues, country, dubstep, and Tejano musical acts. While Houston has never been widely known for its music scene, Houston hip-hop has become a significant, independent music scene that is influential nationwide. Houston is the birthplace of the chopped and screwed remixing-technique in Hip-hop which was pioneered by DJ Screw from the city. Some other notable Hip-hop artists from the area include Destiny\\'s Child, Slim Thug, Paul Wall, Mike Jones, Bun B, Geto Boys, Trae tha Truth, Kirko Bangz, Z-Ro, South Park Mexican, Travis Scott and Megan Thee Stallion.Beyoncé Knowles also originated in Houston.\\n\\n\\n=== Tourism and recreation ===\\nThe Theater District is a 17-block area in the center of Downtown Houston that is home to the Bayou Place entertainment complex, restaurants, movies, plazas, and parks. Bayou Place is a large multilevel building containing full-service restaurants, bars, live music, billiards, and Sundance Cinema. The Bayou Music Center stages live concerts, stage plays, and stand-up comedy.\\nSpace Center Houston is the official visitors\\' center of NASA\\'s Lyndon B. Johnson Space Center. The Space Center has many interactive exhibits including moon rocks, a shuttle simulator, and presentations about the history of NASA\\'s manned space flight program. Other tourist attractions include the Galleria (Texas\\'s largest shopping mall, in the Uptown District), Old Market Square, the Downtown Aquarium, and Sam Houston Race Park.\\nHouston\\'s current Chinatown and the Mahatma Gandhi District are two major ethnic enclaves, reflecting Houston\\'s multicultural makeup. Restaurants, bakeries, traditional-clothing boutiques, and specialty shops can be found in both areas.\\nHouston is home to 337 parks, including Hermann Park, Terry Hershey Park, Lake Houston Park, Memorial Park, Tranquility Park, Sesquicentennial Park, Discovery Green, Buffalo Bayou Park and Sam Houston Park. Within Hermann Park are the Houston Zoo and the Houston Museum of Natural Science. Sam Houston Park contains restored and reconstructed homes which were originally built between 1823 and 1905. A proposal has been made to open the city\\'s first botanic garden at Herman Brown Park.Of the 10 most populous U.S. cities, Houston has the most total area of parks and green space, 56,405 acres (228 km2). The city also has over 200 additional green spaces—totaling over 19,600 acres (79 km2) that are managed by the city—including the Houston Arboretum and Nature Center. The Lee and Joe Jamail Skatepark is a public skatepark owned and operated by the city of Houston, and is one of the largest skateparks in Texas consisting of a 30,000-ft2 (2,800 m2)in-ground facility.\\nThe Gerald D. Hines Waterwall Park—in the Uptown District of the city—serves as a popular tourist attraction and for weddings and various celebrations. A 2011 study by Walk Score ranked Houston the 23rd most walkable of the 50 largest cities in the United States.\\n\\n\\n== Sports ==\\n\\nHouston has sports teams for every major professional league except the National Hockey League. The Houston Astros are a Major League Baseball  expansion team formed in 1962 (known as the \"Colt .45s\" until 1965) that have won the World Series in 2017 and 2022 and appeared in it in 2005, 2019, and 2021. It is the only MLB team to have won pennants in both modern leagues. The Houston Rockets are a National Basketball Association  franchise based in the city since 1971. They have won two NBA Championships, one in 1994 and another in 1995, under star players Hakeem Olajuwon, Otis Thorpe, Clyde Drexler, Vernon Maxwell, and Kenny Smith. The Houston Texans are a National Football League  expansion team formed in', doc_id='ce496aa1-345e-4b95-826b-2f6630185eb9', embedding=None, doc_hash='b11e467663a99d9c71c32426dbaf361a6c7a90c76392ce38079c8606dc86214f', extra_info=None, node_info={'start': 60945, 'end': 64855}, relationships={<DocumentRelationship.SOURCE: '1'>: 'dac964f7-3508-43c8-b057-cfba7024cf8c', <DocumentRelationship.PREVIOUS: '2'>: '8b765c0d-b91c-4871-9858-e5eee52f6315', <DocumentRelationship.NEXT: '3'>: 'a44853e6-7d43-43d2-a744-51439c54f985'}), score=0.850819581636236)], extra_info=None)"
      ]
     },
     "execution_count": 82,
     "metadata": {},
     "output_type": "execute_result"
    }
   ],
   "source": [
    "response"
   ]
  },
  {
   "cell_type": "code",
   "execution_count": 68,
   "id": "5d78bcef-785b-4667-a509-9f6d4e1d9d5f",
   "metadata": {
    "tags": []
   },
   "outputs": [],
   "source": [
    "response = outer_graph.query(\"What are the sports teams in Toronto?\")"
   ]
  },
  {
   "cell_type": "code",
   "execution_count": 72,
   "id": "431d75f1-d153-44b7-ac2f-4bfc4b65e3f5",
   "metadata": {
    "tags": []
   },
   "outputs": [
    {
     "data": {
      "text/plain": [
       "Node(text='\\nThe sports teams in Toronto are the Toronto Maple Leafs (NHL), Toronto Blue Jays (MLB), Toronto Raptors (NBA), Toronto Argonauts (CFL), Toronto FC (MLS), Toronto Rock (NLL), Toronto Wolfpack (RFL), and Toronto Rush (NARL).', doc_id='2fbc9b34-11f7-4314-9446-e3286ebbc00f', embedding=None, doc_hash='b202900dff4de0f0680b2991858081456feeb3bcfc1e0e50a671b39bfa876f8d', extra_info=None, node_info=None, relationships={})"
      ]
     },
     "execution_count": 72,
     "metadata": {},
     "output_type": "execute_result"
    }
   ],
   "source": [
    "response.source_nodes[1].node"
   ]
  },
  {
   "cell_type": "code",
   "execution_count": null,
   "id": "768416c6-96af-4a93-8b46-76b9d4408200",
   "metadata": {},
   "outputs": [],
   "source": []
  }
 ],
 "metadata": {
  "colab": {
   "provenance": []
  },
  "kernelspec": {
   "display_name": "llama_index",
   "language": "python",
   "name": "llama_index"
  },
  "language_info": {
   "codemirror_mode": {
    "name": "ipython",
    "version": 3
   },
   "file_extension": ".py",
   "mimetype": "text/x-python",
   "name": "python",
   "nbconvert_exporter": "python",
   "pygments_lexer": "ipython3",
   "version": "3.10.10"
  },
  "vscode": {
   "interpreter": {
    "hash": "775fd5332502f2902173832d699e1edc37222ebadd0e97b5c8a1a7431bebae89"
   }
  },
  "widgets": {
   "application/vnd.jupyter.widget-state+json": {
    "026cc1a42e154f1f92b5236869311929": {
     "model_module": "@jupyter-widgets/controls",
     "model_module_version": "1.5.0",
     "model_name": "FloatProgressModel",
     "state": {
      "_dom_classes": [],
      "_model_module": "@jupyter-widgets/controls",
      "_model_module_version": "1.5.0",
      "_model_name": "FloatProgressModel",
      "_view_count": null,
      "_view_module": "@jupyter-widgets/controls",
      "_view_module_version": "1.5.0",
      "_view_name": "ProgressView",
      "bar_style": "success",
      "description": "",
      "description_tooltip": null,
      "layout": "IPY_MODEL_4cc9ec6ba46647aba2d53e352f91c137",
      "max": 665,
      "min": 0,
      "orientation": "horizontal",
      "style": "IPY_MODEL_f2a1c5087d0e44909139697ed90474e8",
      "value": 665
     }
    },
    "028aa5d1f7a74d538b5c606d4a6d146f": {
     "model_module": "@jupyter-widgets/base",
     "model_module_version": "1.2.0",
     "model_name": "LayoutModel",
     "state": {
      "_model_module": "@jupyter-widgets/base",
      "_model_module_version": "1.2.0",
      "_model_name": "LayoutModel",
      "_view_count": null,
      "_view_module": "@jupyter-widgets/base",
      "_view_module_version": "1.2.0",
      "_view_name": "LayoutView",
      "align_content": null,
      "align_items": null,
      "align_self": null,
      "border": null,
      "bottom": null,
      "display": null,
      "flex": null,
      "flex_flow": null,
      "grid_area": null,
      "grid_auto_columns": null,
      "grid_auto_flow": null,
      "grid_auto_rows": null,
      "grid_column": null,
      "grid_gap": null,
      "grid_row": null,
      "grid_template_areas": null,
      "grid_template_columns": null,
      "grid_template_rows": null,
      "height": null,
      "justify_content": null,
      "justify_items": null,
      "left": null,
      "margin": null,
      "max_height": null,
      "max_width": null,
      "min_height": null,
      "min_width": null,
      "object_fit": null,
      "object_position": null,
      "order": null,
      "overflow": null,
      "overflow_x": null,
      "overflow_y": null,
      "padding": null,
      "right": null,
      "top": null,
      "visibility": null,
      "width": null
     }
    },
    "119d6d7a8d524aa49170f5784ebc6b9e": {
     "model_module": "@jupyter-widgets/controls",
     "model_module_version": "1.5.0",
     "model_name": "DescriptionStyleModel",
     "state": {
      "_model_module": "@jupyter-widgets/controls",
      "_model_module_version": "1.5.0",
      "_model_name": "DescriptionStyleModel",
      "_view_count": null,
      "_view_module": "@jupyter-widgets/base",
      "_view_module_version": "1.2.0",
      "_view_name": "StyleView",
      "description_width": ""
     }
    },
    "1bdaf4dab16f48dbaeed3fb9bf268e45": {
     "model_module": "@jupyter-widgets/controls",
     "model_module_version": "1.5.0",
     "model_name": "HTMLModel",
     "state": {
      "_dom_classes": [],
      "_model_module": "@jupyter-widgets/controls",
      "_model_module_version": "1.5.0",
      "_model_name": "HTMLModel",
      "_view_count": null,
      "_view_module": "@jupyter-widgets/controls",
      "_view_module_version": "1.5.0",
      "_view_name": "HTMLView",
      "description": "",
      "description_tooltip": null,
      "layout": "IPY_MODEL_028aa5d1f7a74d538b5c606d4a6d146f",
      "placeholder": "​",
      "style": "IPY_MODEL_c078fe9a056a473dab7d474cd7907154",
      "value": "Downloading (…)lve/main/config.json: 100%"
     }
    },
    "2053e6adef1b4dba89f861eaf3d916fd": {
     "model_module": "@jupyter-widgets/controls",
     "model_module_version": "1.5.0",
     "model_name": "DescriptionStyleModel",
     "state": {
      "_model_module": "@jupyter-widgets/controls",
      "_model_module_version": "1.5.0",
      "_model_name": "DescriptionStyleModel",
      "_view_count": null,
      "_view_module": "@jupyter-widgets/base",
      "_view_module_version": "1.2.0",
      "_view_name": "StyleView",
      "description_width": ""
     }
    },
    "208d404f405a42a3b06d65ad67fb7322": {
     "model_module": "@jupyter-widgets/controls",
     "model_module_version": "1.5.0",
     "model_name": "HTMLModel",
     "state": {
      "_dom_classes": [],
      "_model_module": "@jupyter-widgets/controls",
      "_model_module_version": "1.5.0",
      "_model_name": "HTMLModel",
      "_view_count": null,
      "_view_module": "@jupyter-widgets/controls",
      "_view_module_version": "1.5.0",
      "_view_name": "HTMLView",
      "description": "",
      "description_tooltip": null,
      "layout": "IPY_MODEL_3fef46c902524717b377dee6c1dfc929",
      "placeholder": "​",
      "style": "IPY_MODEL_fd8b887c1f7149f2876cf8a31e534ad6",
      "value": "Downloading (…)olve/main/vocab.json: 100%"
     }
    },
    "380a0c11434241b191b17421e395be8b": {
     "model_module": "@jupyter-widgets/base",
     "model_module_version": "1.2.0",
     "model_name": "LayoutModel",
     "state": {
      "_model_module": "@jupyter-widgets/base",
      "_model_module_version": "1.2.0",
      "_model_name": "LayoutModel",
      "_view_count": null,
      "_view_module": "@jupyter-widgets/base",
      "_view_module_version": "1.2.0",
      "_view_name": "LayoutView",
      "align_content": null,
      "align_items": null,
      "align_self": null,
      "border": null,
      "bottom": null,
      "display": null,
      "flex": null,
      "flex_flow": null,
      "grid_area": null,
      "grid_auto_columns": null,
      "grid_auto_flow": null,
      "grid_auto_rows": null,
      "grid_column": null,
      "grid_gap": null,
      "grid_row": null,
      "grid_template_areas": null,
      "grid_template_columns": null,
      "grid_template_rows": null,
      "height": null,
      "justify_content": null,
      "justify_items": null,
      "left": null,
      "margin": null,
      "max_height": null,
      "max_width": null,
      "min_height": null,
      "min_width": null,
      "object_fit": null,
      "object_position": null,
      "order": null,
      "overflow": null,
      "overflow_x": null,
      "overflow_y": null,
      "padding": null,
      "right": null,
      "top": null,
      "visibility": null,
      "width": null
     }
    },
    "398f1c0f56fe4f218d999df138adfdac": {
     "model_module": "@jupyter-widgets/base",
     "model_module_version": "1.2.0",
     "model_name": "LayoutModel",
     "state": {
      "_model_module": "@jupyter-widgets/base",
      "_model_module_version": "1.2.0",
      "_model_name": "LayoutModel",
      "_view_count": null,
      "_view_module": "@jupyter-widgets/base",
      "_view_module_version": "1.2.0",
      "_view_name": "LayoutView",
      "align_content": null,
      "align_items": null,
      "align_self": null,
      "border": null,
      "bottom": null,
      "display": null,
      "flex": null,
      "flex_flow": null,
      "grid_area": null,
      "grid_auto_columns": null,
      "grid_auto_flow": null,
      "grid_auto_rows": null,
      "grid_column": null,
      "grid_gap": null,
      "grid_row": null,
      "grid_template_areas": null,
      "grid_template_columns": null,
      "grid_template_rows": null,
      "height": null,
      "justify_content": null,
      "justify_items": null,
      "left": null,
      "margin": null,
      "max_height": null,
      "max_width": null,
      "min_height": null,
      "min_width": null,
      "object_fit": null,
      "object_position": null,
      "order": null,
      "overflow": null,
      "overflow_x": null,
      "overflow_y": null,
      "padding": null,
      "right": null,
      "top": null,
      "visibility": null,
      "width": null
     }
    },
    "3b4c1066797b43a586611ec2d63e7ca1": {
     "model_module": "@jupyter-widgets/controls",
     "model_module_version": "1.5.0",
     "model_name": "HBoxModel",
     "state": {
      "_dom_classes": [],
      "_model_module": "@jupyter-widgets/controls",
      "_model_module_version": "1.5.0",
      "_model_name": "HBoxModel",
      "_view_count": null,
      "_view_module": "@jupyter-widgets/controls",
      "_view_module_version": "1.5.0",
      "_view_name": "HBoxView",
      "box_style": "",
      "children": [
       "IPY_MODEL_c06865c1e01a441698dacf48600dd03c",
       "IPY_MODEL_9d229e5dd56e4d539ca2c1b9f0a37812",
       "IPY_MODEL_868aa268dd28498d902782215e53c6fa"
      ],
      "layout": "IPY_MODEL_46f644cf589e4a48a6fad1742f0c0575"
     }
    },
    "3c37e72850c746ce9c919add5340dede": {
     "model_module": "@jupyter-widgets/base",
     "model_module_version": "1.2.0",
     "model_name": "LayoutModel",
     "state": {
      "_model_module": "@jupyter-widgets/base",
      "_model_module_version": "1.2.0",
      "_model_name": "LayoutModel",
      "_view_count": null,
      "_view_module": "@jupyter-widgets/base",
      "_view_module_version": "1.2.0",
      "_view_name": "LayoutView",
      "align_content": null,
      "align_items": null,
      "align_self": null,
      "border": null,
      "bottom": null,
      "display": null,
      "flex": null,
      "flex_flow": null,
      "grid_area": null,
      "grid_auto_columns": null,
      "grid_auto_flow": null,
      "grid_auto_rows": null,
      "grid_column": null,
      "grid_gap": null,
      "grid_row": null,
      "grid_template_areas": null,
      "grid_template_columns": null,
      "grid_template_rows": null,
      "height": null,
      "justify_content": null,
      "justify_items": null,
      "left": null,
      "margin": null,
      "max_height": null,
      "max_width": null,
      "min_height": null,
      "min_width": null,
      "object_fit": null,
      "object_position": null,
      "order": null,
      "overflow": null,
      "overflow_x": null,
      "overflow_y": null,
      "padding": null,
      "right": null,
      "top": null,
      "visibility": null,
      "width": null
     }
    },
    "3f748152b9274556afad2555572aa9f4": {
     "model_module": "@jupyter-widgets/controls",
     "model_module_version": "1.5.0",
     "model_name": "DescriptionStyleModel",
     "state": {
      "_model_module": "@jupyter-widgets/controls",
      "_model_module_version": "1.5.0",
      "_model_name": "DescriptionStyleModel",
      "_view_count": null,
      "_view_module": "@jupyter-widgets/base",
      "_view_module_version": "1.2.0",
      "_view_name": "StyleView",
      "description_width": ""
     }
    },
    "3fef46c902524717b377dee6c1dfc929": {
     "model_module": "@jupyter-widgets/base",
     "model_module_version": "1.2.0",
     "model_name": "LayoutModel",
     "state": {
      "_model_module": "@jupyter-widgets/base",
      "_model_module_version": "1.2.0",
      "_model_name": "LayoutModel",
      "_view_count": null,
      "_view_module": "@jupyter-widgets/base",
      "_view_module_version": "1.2.0",
      "_view_name": "LayoutView",
      "align_content": null,
      "align_items": null,
      "align_self": null,
      "border": null,
      "bottom": null,
      "display": null,
      "flex": null,
      "flex_flow": null,
      "grid_area": null,
      "grid_auto_columns": null,
      "grid_auto_flow": null,
      "grid_auto_rows": null,
      "grid_column": null,
      "grid_gap": null,
      "grid_row": null,
      "grid_template_areas": null,
      "grid_template_columns": null,
      "grid_template_rows": null,
      "height": null,
      "justify_content": null,
      "justify_items": null,
      "left": null,
      "margin": null,
      "max_height": null,
      "max_width": null,
      "min_height": null,
      "min_width": null,
      "object_fit": null,
      "object_position": null,
      "order": null,
      "overflow": null,
      "overflow_x": null,
      "overflow_y": null,
      "padding": null,
      "right": null,
      "top": null,
      "visibility": null,
      "width": null
     }
    },
    "40e148c291ad4f739998a7eac55a8af6": {
     "model_module": "@jupyter-widgets/base",
     "model_module_version": "1.2.0",
     "model_name": "LayoutModel",
     "state": {
      "_model_module": "@jupyter-widgets/base",
      "_model_module_version": "1.2.0",
      "_model_name": "LayoutModel",
      "_view_count": null,
      "_view_module": "@jupyter-widgets/base",
      "_view_module_version": "1.2.0",
      "_view_name": "LayoutView",
      "align_content": null,
      "align_items": null,
      "align_self": null,
      "border": null,
      "bottom": null,
      "display": null,
      "flex": null,
      "flex_flow": null,
      "grid_area": null,
      "grid_auto_columns": null,
      "grid_auto_flow": null,
      "grid_auto_rows": null,
      "grid_column": null,
      "grid_gap": null,
      "grid_row": null,
      "grid_template_areas": null,
      "grid_template_columns": null,
      "grid_template_rows": null,
      "height": null,
      "justify_content": null,
      "justify_items": null,
      "left": null,
      "margin": null,
      "max_height": null,
      "max_width": null,
      "min_height": null,
      "min_width": null,
      "object_fit": null,
      "object_position": null,
      "order": null,
      "overflow": null,
      "overflow_x": null,
      "overflow_y": null,
      "padding": null,
      "right": null,
      "top": null,
      "visibility": null,
      "width": null
     }
    },
    "46f644cf589e4a48a6fad1742f0c0575": {
     "model_module": "@jupyter-widgets/base",
     "model_module_version": "1.2.0",
     "model_name": "LayoutModel",
     "state": {
      "_model_module": "@jupyter-widgets/base",
      "_model_module_version": "1.2.0",
      "_model_name": "LayoutModel",
      "_view_count": null,
      "_view_module": "@jupyter-widgets/base",
      "_view_module_version": "1.2.0",
      "_view_name": "LayoutView",
      "align_content": null,
      "align_items": null,
      "align_self": null,
      "border": null,
      "bottom": null,
      "display": null,
      "flex": null,
      "flex_flow": null,
      "grid_area": null,
      "grid_auto_columns": null,
      "grid_auto_flow": null,
      "grid_auto_rows": null,
      "grid_column": null,
      "grid_gap": null,
      "grid_row": null,
      "grid_template_areas": null,
      "grid_template_columns": null,
      "grid_template_rows": null,
      "height": null,
      "justify_content": null,
      "justify_items": null,
      "left": null,
      "margin": null,
      "max_height": null,
      "max_width": null,
      "min_height": null,
      "min_width": null,
      "object_fit": null,
      "object_position": null,
      "order": null,
      "overflow": null,
      "overflow_x": null,
      "overflow_y": null,
      "padding": null,
      "right": null,
      "top": null,
      "visibility": null,
      "width": null
     }
    },
    "47838fa763ca40598b2622a9d1e79444": {
     "model_module": "@jupyter-widgets/controls",
     "model_module_version": "1.5.0",
     "model_name": "HTMLModel",
     "state": {
      "_dom_classes": [],
      "_model_module": "@jupyter-widgets/controls",
      "_model_module_version": "1.5.0",
      "_model_name": "HTMLModel",
      "_view_count": null,
      "_view_module": "@jupyter-widgets/controls",
      "_view_module_version": "1.5.0",
      "_view_name": "HTMLView",
      "description": "",
      "description_tooltip": null,
      "layout": "IPY_MODEL_b102e756f9b848a98f58396fc825be84",
      "placeholder": "​",
      "style": "IPY_MODEL_fbd7219af1924d2ead5310eb7b35aab0",
      "value": " 1.04M/1.04M [00:00&lt;00:00, 23.7MB/s]"
     }
    },
    "4cc9ec6ba46647aba2d53e352f91c137": {
     "model_module": "@jupyter-widgets/base",
     "model_module_version": "1.2.0",
     "model_name": "LayoutModel",
     "state": {
      "_model_module": "@jupyter-widgets/base",
      "_model_module_version": "1.2.0",
      "_model_name": "LayoutModel",
      "_view_count": null,
      "_view_module": "@jupyter-widgets/base",
      "_view_module_version": "1.2.0",
      "_view_name": "LayoutView",
      "align_content": null,
      "align_items": null,
      "align_self": null,
      "border": null,
      "bottom": null,
      "display": null,
      "flex": null,
      "flex_flow": null,
      "grid_area": null,
      "grid_auto_columns": null,
      "grid_auto_flow": null,
      "grid_auto_rows": null,
      "grid_column": null,
      "grid_gap": null,
      "grid_row": null,
      "grid_template_areas": null,
      "grid_template_columns": null,
      "grid_template_rows": null,
      "height": null,
      "justify_content": null,
      "justify_items": null,
      "left": null,
      "margin": null,
      "max_height": null,
      "max_width": null,
      "min_height": null,
      "min_width": null,
      "object_fit": null,
      "object_position": null,
      "order": null,
      "overflow": null,
      "overflow_x": null,
      "overflow_y": null,
      "padding": null,
      "right": null,
      "top": null,
      "visibility": null,
      "width": null
     }
    },
    "64b754f563834be0a6963349b1f2dcf2": {
     "model_module": "@jupyter-widgets/controls",
     "model_module_version": "1.5.0",
     "model_name": "HTMLModel",
     "state": {
      "_dom_classes": [],
      "_model_module": "@jupyter-widgets/controls",
      "_model_module_version": "1.5.0",
      "_model_name": "HTMLModel",
      "_view_count": null,
      "_view_module": "@jupyter-widgets/controls",
      "_view_module_version": "1.5.0",
      "_view_name": "HTMLView",
      "description": "",
      "description_tooltip": null,
      "layout": "IPY_MODEL_a02534c347aa4865ab4ab3de3a3ee2f5",
      "placeholder": "​",
      "style": "IPY_MODEL_b0ccb9d9d96e4ed8bec4d540c34d337c",
      "value": "Downloading (…)/main/tokenizer.json: 100%"
     }
    },
    "7438aea716f44d85ad1c2b49a93acd83": {
     "model_module": "@jupyter-widgets/base",
     "model_module_version": "1.2.0",
     "model_name": "LayoutModel",
     "state": {
      "_model_module": "@jupyter-widgets/base",
      "_model_module_version": "1.2.0",
      "_model_name": "LayoutModel",
      "_view_count": null,
      "_view_module": "@jupyter-widgets/base",
      "_view_module_version": "1.2.0",
      "_view_name": "LayoutView",
      "align_content": null,
      "align_items": null,
      "align_self": null,
      "border": null,
      "bottom": null,
      "display": null,
      "flex": null,
      "flex_flow": null,
      "grid_area": null,
      "grid_auto_columns": null,
      "grid_auto_flow": null,
      "grid_auto_rows": null,
      "grid_column": null,
      "grid_gap": null,
      "grid_row": null,
      "grid_template_areas": null,
      "grid_template_columns": null,
      "grid_template_rows": null,
      "height": null,
      "justify_content": null,
      "justify_items": null,
      "left": null,
      "margin": null,
      "max_height": null,
      "max_width": null,
      "min_height": null,
      "min_width": null,
      "object_fit": null,
      "object_position": null,
      "order": null,
      "overflow": null,
      "overflow_x": null,
      "overflow_y": null,
      "padding": null,
      "right": null,
      "top": null,
      "visibility": null,
      "width": null
     }
    },
    "7b24b46d6c3643e581ba003a9c473745": {
     "model_module": "@jupyter-widgets/base",
     "model_module_version": "1.2.0",
     "model_name": "LayoutModel",
     "state": {
      "_model_module": "@jupyter-widgets/base",
      "_model_module_version": "1.2.0",
      "_model_name": "LayoutModel",
      "_view_count": null,
      "_view_module": "@jupyter-widgets/base",
      "_view_module_version": "1.2.0",
      "_view_name": "LayoutView",
      "align_content": null,
      "align_items": null,
      "align_self": null,
      "border": null,
      "bottom": null,
      "display": null,
      "flex": null,
      "flex_flow": null,
      "grid_area": null,
      "grid_auto_columns": null,
      "grid_auto_flow": null,
      "grid_auto_rows": null,
      "grid_column": null,
      "grid_gap": null,
      "grid_row": null,
      "grid_template_areas": null,
      "grid_template_columns": null,
      "grid_template_rows": null,
      "height": null,
      "justify_content": null,
      "justify_items": null,
      "left": null,
      "margin": null,
      "max_height": null,
      "max_width": null,
      "min_height": null,
      "min_width": null,
      "object_fit": null,
      "object_position": null,
      "order": null,
      "overflow": null,
      "overflow_x": null,
      "overflow_y": null,
      "padding": null,
      "right": null,
      "top": null,
      "visibility": null,
      "width": null
     }
    },
    "7b47c78391a4431aa2d3f84677f24046": {
     "model_module": "@jupyter-widgets/controls",
     "model_module_version": "1.5.0",
     "model_name": "DescriptionStyleModel",
     "state": {
      "_model_module": "@jupyter-widgets/controls",
      "_model_module_version": "1.5.0",
      "_model_name": "DescriptionStyleModel",
      "_view_count": null,
      "_view_module": "@jupyter-widgets/base",
      "_view_module_version": "1.2.0",
      "_view_name": "StyleView",
      "description_width": ""
     }
    },
    "7da29a2b6508494282acbc459eccbb96": {
     "model_module": "@jupyter-widgets/controls",
     "model_module_version": "1.5.0",
     "model_name": "FloatProgressModel",
     "state": {
      "_dom_classes": [],
      "_model_module": "@jupyter-widgets/controls",
      "_model_module_version": "1.5.0",
      "_model_name": "FloatProgressModel",
      "_view_count": null,
      "_view_module": "@jupyter-widgets/controls",
      "_view_module_version": "1.5.0",
      "_view_name": "ProgressView",
      "bar_style": "success",
      "description": "",
      "description_tooltip": null,
      "layout": "IPY_MODEL_7438aea716f44d85ad1c2b49a93acd83",
      "max": 1042301,
      "min": 0,
      "orientation": "horizontal",
      "style": "IPY_MODEL_fe39f994fa9b4d7daa232e1dcd2b0e8b",
      "value": 1042301
     }
    },
    "868aa268dd28498d902782215e53c6fa": {
     "model_module": "@jupyter-widgets/controls",
     "model_module_version": "1.5.0",
     "model_name": "HTMLModel",
     "state": {
      "_dom_classes": [],
      "_model_module": "@jupyter-widgets/controls",
      "_model_module_version": "1.5.0",
      "_model_name": "HTMLModel",
      "_view_count": null,
      "_view_module": "@jupyter-widgets/controls",
      "_view_module_version": "1.5.0",
      "_view_name": "HTMLView",
      "description": "",
      "description_tooltip": null,
      "layout": "IPY_MODEL_3c37e72850c746ce9c919add5340dede",
      "placeholder": "​",
      "style": "IPY_MODEL_2053e6adef1b4dba89f861eaf3d916fd",
      "value": " 456k/456k [00:00&lt;00:00, 11.9MB/s]"
     }
    },
    "9d229e5dd56e4d539ca2c1b9f0a37812": {
     "model_module": "@jupyter-widgets/controls",
     "model_module_version": "1.5.0",
     "model_name": "FloatProgressModel",
     "state": {
      "_dom_classes": [],
      "_model_module": "@jupyter-widgets/controls",
      "_model_module_version": "1.5.0",
      "_model_name": "FloatProgressModel",
      "_view_count": null,
      "_view_module": "@jupyter-widgets/controls",
      "_view_module_version": "1.5.0",
      "_view_name": "ProgressView",
      "bar_style": "success",
      "description": "",
      "description_tooltip": null,
      "layout": "IPY_MODEL_398f1c0f56fe4f218d999df138adfdac",
      "max": 456318,
      "min": 0,
      "orientation": "horizontal",
      "style": "IPY_MODEL_f1839e86863948f68314f81ba6bca4c9",
      "value": 456318
     }
    },
    "a02534c347aa4865ab4ab3de3a3ee2f5": {
     "model_module": "@jupyter-widgets/base",
     "model_module_version": "1.2.0",
     "model_name": "LayoutModel",
     "state": {
      "_model_module": "@jupyter-widgets/base",
      "_model_module_version": "1.2.0",
      "_model_name": "LayoutModel",
      "_view_count": null,
      "_view_module": "@jupyter-widgets/base",
      "_view_module_version": "1.2.0",
      "_view_name": "LayoutView",
      "align_content": null,
      "align_items": null,
      "align_self": null,
      "border": null,
      "bottom": null,
      "display": null,
      "flex": null,
      "flex_flow": null,
      "grid_area": null,
      "grid_auto_columns": null,
      "grid_auto_flow": null,
      "grid_auto_rows": null,
      "grid_column": null,
      "grid_gap": null,
      "grid_row": null,
      "grid_template_areas": null,
      "grid_template_columns": null,
      "grid_template_rows": null,
      "height": null,
      "justify_content": null,
      "justify_items": null,
      "left": null,
      "margin": null,
      "max_height": null,
      "max_width": null,
      "min_height": null,
      "min_width": null,
      "object_fit": null,
      "object_position": null,
      "order": null,
      "overflow": null,
      "overflow_x": null,
      "overflow_y": null,
      "padding": null,
      "right": null,
      "top": null,
      "visibility": null,
      "width": null
     }
    },
    "a2edbc4195d843e0acfba83726a08e78": {
     "model_module": "@jupyter-widgets/controls",
     "model_module_version": "1.5.0",
     "model_name": "HTMLModel",
     "state": {
      "_dom_classes": [],
      "_model_module": "@jupyter-widgets/controls",
      "_model_module_version": "1.5.0",
      "_model_name": "HTMLModel",
      "_view_count": null,
      "_view_module": "@jupyter-widgets/controls",
      "_view_module_version": "1.5.0",
      "_view_name": "HTMLView",
      "description": "",
      "description_tooltip": null,
      "layout": "IPY_MODEL_7b24b46d6c3643e581ba003a9c473745",
      "placeholder": "​",
      "style": "IPY_MODEL_3f748152b9274556afad2555572aa9f4",
      "value": " 665/665 [00:00&lt;00:00, 22.7kB/s]"
     }
    },
    "adb40ef11f094594b14776e238955224": {
     "model_module": "@jupyter-widgets/base",
     "model_module_version": "1.2.0",
     "model_name": "LayoutModel",
     "state": {
      "_model_module": "@jupyter-widgets/base",
      "_model_module_version": "1.2.0",
      "_model_name": "LayoutModel",
      "_view_count": null,
      "_view_module": "@jupyter-widgets/base",
      "_view_module_version": "1.2.0",
      "_view_name": "LayoutView",
      "align_content": null,
      "align_items": null,
      "align_self": null,
      "border": null,
      "bottom": null,
      "display": null,
      "flex": null,
      "flex_flow": null,
      "grid_area": null,
      "grid_auto_columns": null,
      "grid_auto_flow": null,
      "grid_auto_rows": null,
      "grid_column": null,
      "grid_gap": null,
      "grid_row": null,
      "grid_template_areas": null,
      "grid_template_columns": null,
      "grid_template_rows": null,
      "height": null,
      "justify_content": null,
      "justify_items": null,
      "left": null,
      "margin": null,
      "max_height": null,
      "max_width": null,
      "min_height": null,
      "min_width": null,
      "object_fit": null,
      "object_position": null,
      "order": null,
      "overflow": null,
      "overflow_x": null,
      "overflow_y": null,
      "padding": null,
      "right": null,
      "top": null,
      "visibility": null,
      "width": null
     }
    },
    "b0ccb9d9d96e4ed8bec4d540c34d337c": {
     "model_module": "@jupyter-widgets/controls",
     "model_module_version": "1.5.0",
     "model_name": "DescriptionStyleModel",
     "state": {
      "_model_module": "@jupyter-widgets/controls",
      "_model_module_version": "1.5.0",
      "_model_name": "DescriptionStyleModel",
      "_view_count": null,
      "_view_module": "@jupyter-widgets/base",
      "_view_module_version": "1.2.0",
      "_view_name": "StyleView",
      "description_width": ""
     }
    },
    "b102e756f9b848a98f58396fc825be84": {
     "model_module": "@jupyter-widgets/base",
     "model_module_version": "1.2.0",
     "model_name": "LayoutModel",
     "state": {
      "_model_module": "@jupyter-widgets/base",
      "_model_module_version": "1.2.0",
      "_model_name": "LayoutModel",
      "_view_count": null,
      "_view_module": "@jupyter-widgets/base",
      "_view_module_version": "1.2.0",
      "_view_name": "LayoutView",
      "align_content": null,
      "align_items": null,
      "align_self": null,
      "border": null,
      "bottom": null,
      "display": null,
      "flex": null,
      "flex_flow": null,
      "grid_area": null,
      "grid_auto_columns": null,
      "grid_auto_flow": null,
      "grid_auto_rows": null,
      "grid_column": null,
      "grid_gap": null,
      "grid_row": null,
      "grid_template_areas": null,
      "grid_template_columns": null,
      "grid_template_rows": null,
      "height": null,
      "justify_content": null,
      "justify_items": null,
      "left": null,
      "margin": null,
      "max_height": null,
      "max_width": null,
      "min_height": null,
      "min_width": null,
      "object_fit": null,
      "object_position": null,
      "order": null,
      "overflow": null,
      "overflow_x": null,
      "overflow_y": null,
      "padding": null,
      "right": null,
      "top": null,
      "visibility": null,
      "width": null
     }
    },
    "b458d6fa793d4fa080b9f1e5013af3de": {
     "model_module": "@jupyter-widgets/base",
     "model_module_version": "1.2.0",
     "model_name": "LayoutModel",
     "state": {
      "_model_module": "@jupyter-widgets/base",
      "_model_module_version": "1.2.0",
      "_model_name": "LayoutModel",
      "_view_count": null,
      "_view_module": "@jupyter-widgets/base",
      "_view_module_version": "1.2.0",
      "_view_name": "LayoutView",
      "align_content": null,
      "align_items": null,
      "align_self": null,
      "border": null,
      "bottom": null,
      "display": null,
      "flex": null,
      "flex_flow": null,
      "grid_area": null,
      "grid_auto_columns": null,
      "grid_auto_flow": null,
      "grid_auto_rows": null,
      "grid_column": null,
      "grid_gap": null,
      "grid_row": null,
      "grid_template_areas": null,
      "grid_template_columns": null,
      "grid_template_rows": null,
      "height": null,
      "justify_content": null,
      "justify_items": null,
      "left": null,
      "margin": null,
      "max_height": null,
      "max_width": null,
      "min_height": null,
      "min_width": null,
      "object_fit": null,
      "object_position": null,
      "order": null,
      "overflow": null,
      "overflow_x": null,
      "overflow_y": null,
      "padding": null,
      "right": null,
      "top": null,
      "visibility": null,
      "width": null
     }
    },
    "b53e8481f6d64018988dc03081bf2765": {
     "model_module": "@jupyter-widgets/controls",
     "model_module_version": "1.5.0",
     "model_name": "ProgressStyleModel",
     "state": {
      "_model_module": "@jupyter-widgets/controls",
      "_model_module_version": "1.5.0",
      "_model_name": "ProgressStyleModel",
      "_view_count": null,
      "_view_module": "@jupyter-widgets/base",
      "_view_module_version": "1.2.0",
      "_view_name": "StyleView",
      "bar_color": null,
      "description_width": ""
     }
    },
    "b5566e3db2914ddebd80d7bde75b2559": {
     "model_module": "@jupyter-widgets/controls",
     "model_module_version": "1.5.0",
     "model_name": "HBoxModel",
     "state": {
      "_dom_classes": [],
      "_model_module": "@jupyter-widgets/controls",
      "_model_module_version": "1.5.0",
      "_model_name": "HBoxModel",
      "_view_count": null,
      "_view_module": "@jupyter-widgets/controls",
      "_view_module_version": "1.5.0",
      "_view_name": "HBoxView",
      "box_style": "",
      "children": [
       "IPY_MODEL_208d404f405a42a3b06d65ad67fb7322",
       "IPY_MODEL_7da29a2b6508494282acbc459eccbb96",
       "IPY_MODEL_47838fa763ca40598b2622a9d1e79444"
      ],
      "layout": "IPY_MODEL_ff32a3f12e814740a1cd5dd12bd731d4"
     }
    },
    "c06865c1e01a441698dacf48600dd03c": {
     "model_module": "@jupyter-widgets/controls",
     "model_module_version": "1.5.0",
     "model_name": "HTMLModel",
     "state": {
      "_dom_classes": [],
      "_model_module": "@jupyter-widgets/controls",
      "_model_module_version": "1.5.0",
      "_model_name": "HTMLModel",
      "_view_count": null,
      "_view_module": "@jupyter-widgets/controls",
      "_view_module_version": "1.5.0",
      "_view_name": "HTMLView",
      "description": "",
      "description_tooltip": null,
      "layout": "IPY_MODEL_adb40ef11f094594b14776e238955224",
      "placeholder": "​",
      "style": "IPY_MODEL_7b47c78391a4431aa2d3f84677f24046",
      "value": "Downloading (…)olve/main/merges.txt: 100%"
     }
    },
    "c078fe9a056a473dab7d474cd7907154": {
     "model_module": "@jupyter-widgets/controls",
     "model_module_version": "1.5.0",
     "model_name": "DescriptionStyleModel",
     "state": {
      "_model_module": "@jupyter-widgets/controls",
      "_model_module_version": "1.5.0",
      "_model_name": "DescriptionStyleModel",
      "_view_count": null,
      "_view_module": "@jupyter-widgets/base",
      "_view_module_version": "1.2.0",
      "_view_name": "StyleView",
      "description_width": ""
     }
    },
    "c7636a6d7380465895b8c86d34caf500": {
     "model_module": "@jupyter-widgets/controls",
     "model_module_version": "1.5.0",
     "model_name": "FloatProgressModel",
     "state": {
      "_dom_classes": [],
      "_model_module": "@jupyter-widgets/controls",
      "_model_module_version": "1.5.0",
      "_model_name": "FloatProgressModel",
      "_view_count": null,
      "_view_module": "@jupyter-widgets/controls",
      "_view_module_version": "1.5.0",
      "_view_name": "ProgressView",
      "bar_style": "success",
      "description": "",
      "description_tooltip": null,
      "layout": "IPY_MODEL_f22e9615de674e05978f332eb88750cf",
      "max": 1355256,
      "min": 0,
      "orientation": "horizontal",
      "style": "IPY_MODEL_b53e8481f6d64018988dc03081bf2765",
      "value": 1355256
     }
    },
    "d55f842766484d299c75f74e31e7aa6a": {
     "model_module": "@jupyter-widgets/controls",
     "model_module_version": "1.5.0",
     "model_name": "HBoxModel",
     "state": {
      "_dom_classes": [],
      "_model_module": "@jupyter-widgets/controls",
      "_model_module_version": "1.5.0",
      "_model_name": "HBoxModel",
      "_view_count": null,
      "_view_module": "@jupyter-widgets/controls",
      "_view_module_version": "1.5.0",
      "_view_name": "HBoxView",
      "box_style": "",
      "children": [
       "IPY_MODEL_1bdaf4dab16f48dbaeed3fb9bf268e45",
       "IPY_MODEL_026cc1a42e154f1f92b5236869311929",
       "IPY_MODEL_a2edbc4195d843e0acfba83726a08e78"
      ],
      "layout": "IPY_MODEL_40e148c291ad4f739998a7eac55a8af6"
     }
    },
    "eab4127882d24acfa9518ebff6f4e22a": {
     "model_module": "@jupyter-widgets/controls",
     "model_module_version": "1.5.0",
     "model_name": "HBoxModel",
     "state": {
      "_dom_classes": [],
      "_model_module": "@jupyter-widgets/controls",
      "_model_module_version": "1.5.0",
      "_model_name": "HBoxModel",
      "_view_count": null,
      "_view_module": "@jupyter-widgets/controls",
      "_view_module_version": "1.5.0",
      "_view_name": "HBoxView",
      "box_style": "",
      "children": [
       "IPY_MODEL_64b754f563834be0a6963349b1f2dcf2",
       "IPY_MODEL_c7636a6d7380465895b8c86d34caf500",
       "IPY_MODEL_f7803dea63994cc2a31acf805bd19e67"
      ],
      "layout": "IPY_MODEL_380a0c11434241b191b17421e395be8b"
     }
    },
    "f1839e86863948f68314f81ba6bca4c9": {
     "model_module": "@jupyter-widgets/controls",
     "model_module_version": "1.5.0",
     "model_name": "ProgressStyleModel",
     "state": {
      "_model_module": "@jupyter-widgets/controls",
      "_model_module_version": "1.5.0",
      "_model_name": "ProgressStyleModel",
      "_view_count": null,
      "_view_module": "@jupyter-widgets/base",
      "_view_module_version": "1.2.0",
      "_view_name": "StyleView",
      "bar_color": null,
      "description_width": ""
     }
    },
    "f22e9615de674e05978f332eb88750cf": {
     "model_module": "@jupyter-widgets/base",
     "model_module_version": "1.2.0",
     "model_name": "LayoutModel",
     "state": {
      "_model_module": "@jupyter-widgets/base",
      "_model_module_version": "1.2.0",
      "_model_name": "LayoutModel",
      "_view_count": null,
      "_view_module": "@jupyter-widgets/base",
      "_view_module_version": "1.2.0",
      "_view_name": "LayoutView",
      "align_content": null,
      "align_items": null,
      "align_self": null,
      "border": null,
      "bottom": null,
      "display": null,
      "flex": null,
      "flex_flow": null,
      "grid_area": null,
      "grid_auto_columns": null,
      "grid_auto_flow": null,
      "grid_auto_rows": null,
      "grid_column": null,
      "grid_gap": null,
      "grid_row": null,
      "grid_template_areas": null,
      "grid_template_columns": null,
      "grid_template_rows": null,
      "height": null,
      "justify_content": null,
      "justify_items": null,
      "left": null,
      "margin": null,
      "max_height": null,
      "max_width": null,
      "min_height": null,
      "min_width": null,
      "object_fit": null,
      "object_position": null,
      "order": null,
      "overflow": null,
      "overflow_x": null,
      "overflow_y": null,
      "padding": null,
      "right": null,
      "top": null,
      "visibility": null,
      "width": null
     }
    },
    "f2a1c5087d0e44909139697ed90474e8": {
     "model_module": "@jupyter-widgets/controls",
     "model_module_version": "1.5.0",
     "model_name": "ProgressStyleModel",
     "state": {
      "_model_module": "@jupyter-widgets/controls",
      "_model_module_version": "1.5.0",
      "_model_name": "ProgressStyleModel",
      "_view_count": null,
      "_view_module": "@jupyter-widgets/base",
      "_view_module_version": "1.2.0",
      "_view_name": "StyleView",
      "bar_color": null,
      "description_width": ""
     }
    },
    "f7803dea63994cc2a31acf805bd19e67": {
     "model_module": "@jupyter-widgets/controls",
     "model_module_version": "1.5.0",
     "model_name": "HTMLModel",
     "state": {
      "_dom_classes": [],
      "_model_module": "@jupyter-widgets/controls",
      "_model_module_version": "1.5.0",
      "_model_name": "HTMLModel",
      "_view_count": null,
      "_view_module": "@jupyter-widgets/controls",
      "_view_module_version": "1.5.0",
      "_view_name": "HTMLView",
      "description": "",
      "description_tooltip": null,
      "layout": "IPY_MODEL_b458d6fa793d4fa080b9f1e5013af3de",
      "placeholder": "​",
      "style": "IPY_MODEL_119d6d7a8d524aa49170f5784ebc6b9e",
      "value": " 1.36M/1.36M [00:00&lt;00:00, 30.3MB/s]"
     }
    },
    "fbd7219af1924d2ead5310eb7b35aab0": {
     "model_module": "@jupyter-widgets/controls",
     "model_module_version": "1.5.0",
     "model_name": "DescriptionStyleModel",
     "state": {
      "_model_module": "@jupyter-widgets/controls",
      "_model_module_version": "1.5.0",
      "_model_name": "DescriptionStyleModel",
      "_view_count": null,
      "_view_module": "@jupyter-widgets/base",
      "_view_module_version": "1.2.0",
      "_view_name": "StyleView",
      "description_width": ""
     }
    },
    "fd8b887c1f7149f2876cf8a31e534ad6": {
     "model_module": "@jupyter-widgets/controls",
     "model_module_version": "1.5.0",
     "model_name": "DescriptionStyleModel",
     "state": {
      "_model_module": "@jupyter-widgets/controls",
      "_model_module_version": "1.5.0",
      "_model_name": "DescriptionStyleModel",
      "_view_count": null,
      "_view_module": "@jupyter-widgets/base",
      "_view_module_version": "1.2.0",
      "_view_name": "StyleView",
      "description_width": ""
     }
    },
    "fe39f994fa9b4d7daa232e1dcd2b0e8b": {
     "model_module": "@jupyter-widgets/controls",
     "model_module_version": "1.5.0",
     "model_name": "ProgressStyleModel",
     "state": {
      "_model_module": "@jupyter-widgets/controls",
      "_model_module_version": "1.5.0",
      "_model_name": "ProgressStyleModel",
      "_view_count": null,
      "_view_module": "@jupyter-widgets/base",
      "_view_module_version": "1.2.0",
      "_view_name": "StyleView",
      "bar_color": null,
      "description_width": ""
     }
    },
    "ff32a3f12e814740a1cd5dd12bd731d4": {
     "model_module": "@jupyter-widgets/base",
     "model_module_version": "1.2.0",
     "model_name": "LayoutModel",
     "state": {
      "_model_module": "@jupyter-widgets/base",
      "_model_module_version": "1.2.0",
      "_model_name": "LayoutModel",
      "_view_count": null,
      "_view_module": "@jupyter-widgets/base",
      "_view_module_version": "1.2.0",
      "_view_name": "LayoutView",
      "align_content": null,
      "align_items": null,
      "align_self": null,
      "border": null,
      "bottom": null,
      "display": null,
      "flex": null,
      "flex_flow": null,
      "grid_area": null,
      "grid_auto_columns": null,
      "grid_auto_flow": null,
      "grid_auto_rows": null,
      "grid_column": null,
      "grid_gap": null,
      "grid_row": null,
      "grid_template_areas": null,
      "grid_template_columns": null,
      "grid_template_rows": null,
      "height": null,
      "justify_content": null,
      "justify_items": null,
      "left": null,
      "margin": null,
      "max_height": null,
      "max_width": null,
      "min_height": null,
      "min_width": null,
      "object_fit": null,
      "object_position": null,
      "order": null,
      "overflow": null,
      "overflow_x": null,
      "overflow_y": null,
      "padding": null,
      "right": null,
      "top": null,
      "visibility": null,
      "width": null
     }
    }
   }
  }
 },
 "nbformat": 4,
 "nbformat_minor": 5
}
